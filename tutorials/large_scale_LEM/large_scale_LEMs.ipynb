{
 "cells": [
  {
   "cell_type": "markdown",
   "id": "fe8444f5",
   "metadata": {},
   "source": [
    "<a href=\"http://landlab.github.io\"><img style=\"float: left\" src=\"../../media/landlab_header.png\"></a>"
   ]
  },
  {
   "cell_type": "markdown",
   "id": "507217c6",
   "metadata": {},
   "source": [
    "# Large scale landscape evolution model with Priority flood flow router and Space_v2\n",
    "<hr>\n",
    "\n",
    "The priority flood flow director is designed to calculate flow properties over large scale grids. In the following notebook we illustrate how the priority flood flow accumulator can be used to simulate landscape evolution using the SPAVE_V2 Landlab component"
   ]
  },
  {
   "cell_type": "code",
   "execution_count": null,
   "id": "e53034ce",
   "metadata": {},
   "outputs": [],
   "source": [
    "import numpy as np\n",
    "from matplotlib import pyplot as plt\n",
    "from tqdm import tqdm\n",
    "import time\n",
    "\n",
    "from landlab import imshow_grid, RasterModelGrid\n",
    "from landlab.components import (\n",
    "    FlowAccumulator,\n",
    "    DepressionFinderAndRouter,\n",
    "    Space,\n",
    "    SpaceLargeScaleEroder,\n",
    "    PriorityFloodFlowRouter,\n",
    ")"
   ]
  },
  {
   "cell_type": "markdown",
   "id": "124ca494",
   "metadata": {},
   "source": [
    "Create raster grid"
   ]
  },
  {
   "cell_type": "code",
   "execution_count": null,
   "id": "5f358c25",
   "metadata": {},
   "outputs": [],
   "source": [
    "# nr = 20\n",
    "# nc = 20\n",
    "nr = 75\n",
    "nc = 75\n",
    "xy_spacing = 10.0\n",
    "mg = RasterModelGrid((nr, nc), xy_spacing=xy_spacing)\n",
    "z = mg.add_zeros(\"topographic__elevation\", at=\"node\")\n",
    "mg.at_node[\"topographic__elevation\"][mg.core_nodes] += np.random.rand(\n",
    "    mg.number_of_core_nodes\n",
    ")\n",
    "\n",
    "s = mg.add_zeros(\"soil__depth\", at=\"node\", dtype=float)\n",
    "mg.at_node[\"soil__depth\"][mg.core_nodes] += 0.5\n",
    "mg.at_node[\"topographic__elevation\"] += mg.at_node[\"soil__depth\"]\n",
    "\n",
    "fr = FlowAccumulator(mg, flow_director='D8')\n",
    "df = DepressionFinderAndRouter(mg)\n",
    "\n",
    "ha = Space(mg, K_sed=0.00005, K_br=0.00005, phi=0.3, H_star=1)\n",
    "\n",
    "br = mg.at_node[\"bedrock__elevation\"]\n",
    "z = mg.at_node[\"topographic__elevation\"]\n",
    "\n",
    "space_dt = 500"
   ]
  },
  {
   "cell_type": "code",
   "execution_count": null,
   "id": "cbb70747",
   "metadata": {},
   "outputs": [],
   "source": [
    "z_ori = np.array(z)\n",
    "t1 = time.time()\n",
    "for i in tqdm(range(50)):\n",
    "    # Uplift\n",
    "    br[mg.core_nodes] += 0.001 * space_dt\n",
    "    z[mg.core_nodes] = br[mg.core_nodes] + s[mg.core_nodes]\n",
    "    fr.run_one_step()\n",
    "    df.map_depressions()\n",
    "    ha.run_one_step(dt=space_dt)\n",
    "\n",
    "t_span1 = time.time() - t1\n",
    "print('Total run time is %.f s' %t_span1)"
   ]
  },
  {
   "cell_type": "code",
   "execution_count": null,
   "id": "97b13224",
   "metadata": {},
   "outputs": [],
   "source": [
    "plt.figure(figsize=(10,10))\n",
    "imshow_grid(mg, \"topographic__elevation\", cmap=\"terrain\")\n",
    "plt.title(\"Final topographic__elevation\")"
   ]
  },
  {
   "cell_type": "code",
   "execution_count": null,
   "id": "529438d6",
   "metadata": {},
   "outputs": [],
   "source": [
    "mg2 = RasterModelGrid((nr, nc), xy_spacing=xy_spacing)\n",
    "z2 = mg2.add_zeros(\"topographic__elevation\", at=\"node\")\n",
    "mg2.at_node[\"topographic__elevation\"][mg2.core_nodes] += np.random.rand(\n",
    "    mg2.number_of_core_nodes\n",
    ")\n",
    "\n",
    "s2 = mg2.add_zeros(\"soil__depth\", at=\"node\", dtype=float)\n",
    "mg2.at_node[\"soil__depth\"][mg2.core_nodes] += 0.5\n",
    "mg2.at_node[\"topographic__elevation\"] += mg2.at_node[\"soil__depth\"]\n",
    "\n",
    "fr2 = PriorityFloodFlowRouter(mg2, flow_metric=\"D8\", update_flow_depressions=True)\n",
    "\n",
    "ha2 = SpaceLargeScaleEroder(mg2, K_sed=0.00005, K_br=0.00005, phi=0.3, H_star=1)\n",
    "\n",
    "br2 = mg2.at_node[\"bedrock__elevation\"]\n",
    "z2 = mg2.at_node[\"topographic__elevation\"]"
   ]
  },
  {
   "cell_type": "code",
   "execution_count": null,
   "id": "52ea1fd6",
   "metadata": {},
   "outputs": [],
   "source": [
    "z_ori = np.array(z2)\n",
    "t2 = time.time()\n",
    "for i in tqdm(range(50)):\n",
    "    # Uplift\n",
    "    br2[mg2.core_nodes] += 0.001 * space_dt\n",
    "    z2[mg2.core_nodes] = br2[mg2.core_nodes] + s2[mg2.core_nodes]\n",
    "    fr2.run_one_step()\n",
    "    ha2.run_one_step(dt=space_dt)\n",
    "\n",
    "t_span2 = time.time() - t2\n",
    "\n",
    "print('Total run time is %.f s' %t_span2)"
   ]
  },
  {
   "cell_type": "code",
   "execution_count": null,
   "id": "e9bec1fe",
   "metadata": {},
   "outputs": [],
   "source": [
    "plt.figure(figsize=(10,10))\n",
    "imshow_grid(mg2, \"topographic__elevation\", cmap=\"terrain\")\n",
    "plt.title(\"Final topographic__elevation\")"
   ]
  },
  {
   "cell_type": "code",
   "execution_count": null,
   "id": "48504bdf",
   "metadata": {},
   "outputs": [],
   "source": [
    "plt.figure()\n",
    "plt.bar(['Default flow accumulator','Priority Flood flow accumulator'],[t_span1,t_span2])\n",
    "plt.ylabel('Seconds')"
   ]
  },
  {
   "cell_type": "markdown",
   "id": "3fbc094a",
   "metadata": {},
   "source": [
    "## Back to HyLands tutorial page\n",
    "[Click here to go back to the tutorial overview page](../index.ipynb)"
   ]
  }
 ],
 "metadata": {
  "kernelspec": {
   "display_name": "Python 3 (ipykernel)",
   "language": "python",
   "name": "python3"
  },
  "language_info": {
   "codemirror_mode": {
    "name": "ipython",
    "version": 3
   },
   "file_extension": ".py",
   "mimetype": "text/x-python",
   "name": "python",
   "nbconvert_exporter": "python",
   "pygments_lexer": "ipython3",
   "version": "3.10.4"
  }
 },
 "nbformat": 4,
 "nbformat_minor": 5
}
