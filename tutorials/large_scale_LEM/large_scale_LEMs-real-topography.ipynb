{
 "cells": [
  {
   "cell_type": "markdown",
   "id": "fe8444f5",
   "metadata": {},
   "source": [
    "<a href=\"http://landlab.github.io\"><img style=\"float: left\" src=\"../../media/landlab_header.png\"></a>"
   ]
  },
  {
   "cell_type": "markdown",
   "id": "507217c6",
   "metadata": {},
   "source": [
    "# Large scale landscape evolution model with Priority flood flow router and Space_v2 on real topography\n",
    "<hr>\n",
    "\n",
    "The priority flood flow director is designed to calculate flow properties over large scale grids. In the following notebook we illustrate how the priority flood flow accumulator can be used to simulate landscape evolution using the SPAVE_V2 Landlab component"
   ]
  },
  {
   "cell_type": "markdown",
   "id": "00f5b36f",
   "metadata": {},
   "source": [
    "First we will import all the modules we need. "
   ]
  },
  {
   "cell_type": "code",
   "execution_count": null,
   "id": "0bc7ac8b",
   "metadata": {},
   "outputs": [],
   "source": [
    "import sys, time, os\n",
    "from pathlib import Path\n",
    "import copy\n",
    "import numpy as np\n",
    "import matplotlib as mpl\n",
    "from tqdm import tqdm\n",
    "import matplotlib.pyplot as plt\n",
    "\n",
    "from landlab.components import (\n",
    "    Space,\n",
    "    FlowAccumulator,\n",
    "    DepressionFinderAndRouter,\n",
    "    SpaceLargeScaleEroder,\n",
    "    PriorityFloodFlowRouter,\n",
    ")\n",
    "\n",
    "from landlab.io.netcdf import read_netcdf\n",
    "from landlab.utils import get_watershed_mask\n",
    "from landlab import RasterModelGrid, imshowhs_grid, imshow_grid\n",
    "from landlab.io import read_esri_ascii, write_esri_ascii\n",
    "from bmi_topography import Topography"
   ]
  },
  {
   "cell_type": "markdown",
   "id": "75209b85",
   "metadata": {},
   "source": [
    "## 1. Download SRTM image using the bmi-topography package\n",
    "See [Bedrock landslides on existing topography (SRTM DEM) notebook](../hylands_real/bedrockLandslides_on_DEMs.ipynb)\n",
    "for more info on the use of bmi-topography. \n"
   ]
  },
  {
   "cell_type": "code",
   "execution_count": null,
   "id": "a4fb424d",
   "metadata": {},
   "outputs": [],
   "source": [
    "topo = Topography(\n",
    "    dem_type=\"SRTMGL3\",\n",
    "    south=39.9,\n",
    "    north=40,\n",
    "    west=-106,\n",
    "    east=-105.9,\n",
    "    output_format=\"AAIGrid\",\n",
    "    cache_dir=\"DEMData//\"\n",
    "    )\n",
    "\n",
    "# topo = Topography(\n",
    "#     dem_type=\"SRTMGL3\",\n",
    "#     south=39,\n",
    "#     north=40,\n",
    "#     west=-106,\n",
    "#     east=-105,\n",
    "#     output_format=\"AAIGrid\",\n",
    "#     cache_dir=\"DEMData//\"\n",
    "#     )\n",
    "\n",
    "fname = topo.fetch()\n",
    "print(fname)\n",
    "dem = topo.load()\n",
    "\n",
    "# Read DEM as Lanlab grid\n",
    "grid_geog, elev = read_esri_ascii(fname, name='topographic__elevation')    \n",
    "\n",
    "#Show dem\n",
    "plt.figure()\n",
    "cmap = copy.copy(mpl.cm.get_cmap(\"terrain\"))\n",
    "imshow_grid(grid_geog, 'topographic__elevation',cmap =cmap,\n",
    "            grid_units=(\"deg\", \"deg\"),colorbar_label=\"Elevation (m)\")\n",
    "plt.show()\n",
    "\n",
    "# Reproject the DEM\n",
    "mg = RasterModelGrid(\n",
    "    (grid_geog.number_of_node_rows, grid_geog.number_of_node_columns), xy_spacing=30.0\n",
    ")\n",
    "mg.add_field(\"topographic__elevation\", elev, at=\"node\")\n",
    "\n",
    "plt.figure(figsize=(5,5))\n",
    "cmap = copy.copy(mpl.cm.get_cmap(\"terrain\"))\n",
    "imshowhs_grid(mg, 'topographic__elevation',cmap =cmap,\n",
    "            grid_units=(\"m\", \"m\"),var_name=\"Elevation (m)\", colorbar_label_y = -50)\n",
    "plt.show()"
   ]
  },
  {
   "cell_type": "markdown",
   "id": "124ca494",
   "metadata": {},
   "source": [
    "Create raster grid"
   ]
  },
  {
   "cell_type": "code",
   "execution_count": null,
   "id": "5f358c25",
   "metadata": {},
   "outputs": [],
   "source": [
    "s = mg.add_zeros(\"soil__depth\", at=\"node\", dtype=float)\n",
    "mg.at_node[\"soil__depth\"][mg.core_nodes] += 0.5\n",
    "mg.at_node[\"topographic__elevation\"] += mg.at_node[\"soil__depth\"]\n",
    "\n",
    "fr = FlowAccumulator(mg, flow_director='D8')\n",
    "df = DepressionFinderAndRouter(mg)\n",
    "\n",
    "ha = Space(mg, K_sed=0.00005, K_br=0.00005, phi=0.3, H_star=1)\n",
    "\n",
    "br = mg.at_node[\"bedrock__elevation\"]\n",
    "z = mg.at_node[\"topographic__elevation\"]\n",
    "\n",
    "space_dt = 50"
   ]
  },
  {
   "cell_type": "code",
   "execution_count": null,
   "id": "cbb70747",
   "metadata": {},
   "outputs": [],
   "source": [
    "z_ori = np.array(z)\n",
    "t1 = time.time()\n",
    "for i in tqdm(range(5)):\n",
    "    # Uplift\n",
    "    br[mg.core_nodes] += 0.0001 * space_dt\n",
    "    # Mimic mass movements by adding some random noise to the DEM\n",
    "    # br[mg.core_nodes] += 10*(np.random.rand(mg.number_of_core_nodes)-0.5)\n",
    "    z[mg.core_nodes] = br[mg.core_nodes] + s[mg.core_nodes]\n",
    "    fr.run_one_step()\n",
    "    df.map_depressions()\n",
    "    ha.run_one_step(dt=space_dt)\n",
    "\n",
    "t_span1 = time.time() - t1\n",
    "print('Total run time is %.f s' %t_span1)"
   ]
  },
  {
   "cell_type": "code",
   "execution_count": null,
   "id": "731448f1",
   "metadata": {},
   "outputs": [],
   "source": [
    "grid_geog.number_of_node_columns"
   ]
  },
  {
   "cell_type": "code",
   "execution_count": null,
   "id": "97b13224",
   "metadata": {},
   "outputs": [],
   "source": [
    "plt.figure(figsize=(10,10))\n",
    "erosion =  z_ori - mg.at_node['topographic__elevation']\n",
    "drape1 = np.sqrt(erosion)\n",
    "drape1[np.isnan(drape1)]=0\n",
    "\n",
    "imshowhs_grid(mg,'topographic__elevation', \n",
    "              drape1 = drape1,\n",
    "              alpha = 0.75,\n",
    "              plot_type = 'Drape1' , \n",
    "              cmap=\"Reds\",\n",
    "              var_name = 'Erosion, m' ,\n",
    "              thres_drape1 = 0\n",
    "             )"
   ]
  },
  {
   "cell_type": "code",
   "execution_count": null,
   "id": "529438d6",
   "metadata": {},
   "outputs": [],
   "source": [
    "mg2 = RasterModelGrid(\n",
    "    (grid_geog.number_of_node_rows, grid_geog.number_of_node_columns), xy_spacing=30.0\n",
    ")\n",
    "z2 = mg2.add_field(\"topographic__elevation\", elev, at=\"node\")\n",
    "s2 = mg2.add_zeros(\"soil__depth\", at=\"node\", dtype=float)\n",
    "mg2.at_node[\"soil__depth\"][mg2.core_nodes] += 0.5\n",
    "mg2.at_node[\"topographic__elevation\"] += mg2.at_node[\"soil__depth\"]\n",
    "\n",
    "fr2 = PriorityFloodFlowRouter(mg2, flow_metric=\"D8\", update_flow_depressions=True)\n",
    "\n",
    "ha2 = SpaceLargeScaleEroder(mg2, K_sed=0.00005, K_br=0.00005, phi=0.3, H_star=1)\n",
    "\n",
    "br2 = mg2.at_node[\"bedrock__elevation\"]\n",
    "space_dt = 50"
   ]
  },
  {
   "cell_type": "code",
   "execution_count": null,
   "id": "52ea1fd6",
   "metadata": {},
   "outputs": [],
   "source": [
    "z2_ori = np.array(z2)\n",
    "t1 = time.time()\n",
    "for i in tqdm(range(5)):\n",
    "    # Uplift\n",
    "    br2[mg2.core_nodes] += 0.001 * space_dt \n",
    "    # Mimic mass movements by adding some random noise to the DEM\n",
    "    # br[mg.core_nodes] += 10*(np.random.rand(mg.number_of_core_nodes)-0.5)\n",
    "    z2[mg2.core_nodes] = br2[mg2.core_nodes] + s2[mg2.core_nodes]\n",
    "    fr2.run_one_step()\n",
    "    ha2.run_one_step(dt=space_dt)\n",
    "\n",
    "t_span2 = time.time() - t1\n",
    "\n",
    "print('Total run time is %.f s' %t_span2)"
   ]
  },
  {
   "cell_type": "code",
   "execution_count": null,
   "id": "e9bec1fe",
   "metadata": {},
   "outputs": [],
   "source": [
    "plt.figure(figsize=(10,10))\n",
    "erosion =  z2_ori - mg2.at_node['topographic__elevation']\n",
    "drape1 = np.sqrt(erosion)\n",
    "drape1[np.isnan(drape1)]=0\n",
    "\n",
    "imshowhs_grid(mg,'topographic__elevation', \n",
    "              drape1 = drape1,\n",
    "              alpha = 0.75,\n",
    "              plot_type = 'Drape1' , \n",
    "              cmap=\"Reds\",\n",
    "              var_name = 'Erosion, m' ,\n",
    "              thres_drape1 = 0\n",
    "             )"
   ]
  },
  {
   "cell_type": "code",
   "execution_count": null,
   "id": "f9bb6b99",
   "metadata": {},
   "outputs": [],
   "source": [
    "plt.figure()\n",
    "plt.bar(['Default flow accumulator','Priority Flood flow accumulator'],[t_span1,t_span2])\n",
    "plt.ylabel('Seconds')"
   ]
  },
  {
   "cell_type": "markdown",
   "id": "b09fceb3",
   "metadata": {},
   "source": [
    "<img align=\"left\" src=\"../../media/RealTopo_Perf_Default_FA_vs_PF_linear_demo.png\" alt=\"drawing\" width=\"600\"/>\n",
    "<br/>\n",
    "\n",
    "**Figure 1a**: Performance of of default flow accumulator versus Priority Flood flow accumulator for DEMs of increasing size.\n",
    "\n",
    "<img align=\"left\" src=\"../../media/RealTopo_Perf_Default_FA_vs_PF_log_demo.png\" alt=\"drawing\" width=\"600\"/>\n",
    "<br/><br/><br/><br/><br/><br/><br/><br/><br/><br/><br/><br/><br/><br/><br/><br/><br/><br/><br/><br/><br/><br/>\n",
    "\n",
    "**Figure 1b**: Performance of of default flow accumulator versus Priority Flood flow accumulator for DEMs of increasing size *log scale*. "
   ]
  },
  {
   "cell_type": "markdown",
   "id": "52e3e488",
   "metadata": {},
   "source": [
    "## Back to HyLands tutorial page\n",
    "[Click here to go back to the tutorial overview page](../index.ipynb)"
   ]
  }
 ],
 "metadata": {
  "kernelspec": {
   "display_name": "Python 3 (ipykernel)",
   "language": "python",
   "name": "python3"
  },
  "language_info": {
   "codemirror_mode": {
    "name": "ipython",
    "version": 3
   },
   "file_extension": ".py",
   "mimetype": "text/x-python",
   "name": "python",
   "nbconvert_exporter": "python",
   "pygments_lexer": "ipython3",
   "version": "3.10.4"
  }
 },
 "nbformat": 4,
 "nbformat_minor": 5
}
