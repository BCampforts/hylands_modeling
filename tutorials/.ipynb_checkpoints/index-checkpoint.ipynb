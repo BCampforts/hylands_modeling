{
 "cells": [
  {
   "cell_type": "markdown",
   "metadata": {},
   "source": [
    "<a href=\"https://doi.org/10.5194/gmd-13-3863-2020\"><img style=\"float: center; width: 100%\" src=\"../media/HyLands_Logo_Header.png\"></a>"
   ]
  },
  {
   "cell_type": "markdown",
   "metadata": {},
   "source": [
    "# Simulating bedrock landslides with Landlab\n",
    "\n",
    "### Introduction to Landlab\n",
    "*  [Introduction to Landlab](https://landlab.readthedocs.io/en/latest/index.html) and [tutorials](https://landlab.readthedocs.io/en/latest/user_guide/tutorials.html)\n",
    "\n",
    "### Bedrock landslides\n",
    "*  [Bedrock landslides on existing topography (SRTM DEM)](./hylands_real/bedrockLandslides_on_DEMs.ipynb)\n",
    "\n",
    "### Large scale landscape evolution models\n",
    "*  [Large scale landscape evolution](./large_scale_LEM/large_scale_LEMs.ipynb)\n",
    "*  [Large scale landscape evolution using real topography](./large_scale_LEM/large_scale_LEMs-real-topography.ipynb)\n",
    "\n",
    "### HyLands (Hybrid Landscape evolution model)\n",
    "*  [HyLands](./hylands_LEM/HyLandsTutorial.ipynb)"
   ]
  }
 ],
 "metadata": {
  "kernelspec": {
   "display_name": "Python 3 (ipykernel)",
   "language": "python",
   "name": "python3"
  },
  "language_info": {
   "codemirror_mode": {
    "name": "ipython",
    "version": 3
   },
   "file_extension": ".py",
   "mimetype": "text/x-python",
   "name": "python",
   "nbconvert_exporter": "python",
   "pygments_lexer": "ipython3",
   "version": "3.9.7"
  }
 },
 "nbformat": 4,
 "nbformat_minor": 2
}
