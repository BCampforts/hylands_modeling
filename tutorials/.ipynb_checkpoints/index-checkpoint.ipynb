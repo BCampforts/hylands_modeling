{
 "cells": [
  {
   "cell_type": "markdown",
   "metadata": {},
   "source": [
    "<a href=\"https://doi.org/10.5194/gmd-13-3863-2020\"><img style=\"float: center; width: 100%\" src=\"../media/HyLands_Logo_Header.png\"></a>"
   ]
  },
  {
   "cell_type": "markdown",
   "metadata": {},
   "source": [
    "# Simulating bedrock landslides with Landlab\n",
    "\n",
    "### Introduction to Landlab\n",
    "*  [Introduction to Landlab](https://landlab.readthedocs.io/en/latest/index.html) and [tutorials](https://landlab.readthedocs.io/en/latest/user_guide/tutorials.html)\n",
    "\n",
    "### Bedrock landslides\n",
    "*  [Bedrock landslides on existing topography (SRTM DEM)](./hylands_real/bedrockLandslides_on_DEMs.ipynb)\n",
    "\n",
    "### Large scale landscape evolution models\n",
    "*  [Large scale landscape evolution using real topography](./large_scale_LEM/large_scale_LEMs-real-topography.ipynb)\n",
    "*  [Large scale landscape evolution](./large_scale_LEM/large_scale_LEMs.ipynb)\n",
    "\n",
    "### HyLands (Hybrid Landscape evolution model)\n",
    "*  [HyLands](./hylands_LEM/HyLandsTutorial.ipynb)"
   ]
  },
  {
   "cell_type": "markdown",
   "metadata": {},
   "source": [
    "All HyLands material is open source, released under [CC BY 4.0 and MIT licenses](./LICENSE.md).\n",
    "If you use the HyLands material, please cite it:\n",
    "\n",
    "* Campforts, B., Shobe, C. M., Overeem, I., & Tucker, G. E. The art of landslides: How stochastic mass wasting shapes topography and influences landscape dynamics. Journal of Geophysical Research: Earth Surface, 127, e2022JF006745, [10.1029/2022JF006745](https://doi.org/10.1029/2022JF006745), 2022.\n",
    "\n",
    "* Campforts, B., Shobe, C. M., Steer, P., Vanmaercke, M., Lague, D., and Braun, J.: HyLands 1.0: a hybrid landscape evolution model to simulate the impact of landslides and landslide-derived sediment on landscape evolution, Geosci. Model Dev., 13, 3863–3886, [10.5194/gmd-13-3863-2020](https://doi.org/10.5194/gmd-13-3863-2020), 2020.\n",
    "\n",
    "<!-- Links -->\n",
    "[badge]: https://img.shields.io/badge/CSDMS-JupyterHub-orange.svg\n",
    "[hylands]: ./tutorials/index.ipynb\n",
    "[gp-hylands]: https://csdms.rc.colorado.edu/hub/user-redirect/git-pull?repo=https%3A%2F%2Fgithub.com%2FBCampforts%2Fhylands_modeling&urlpath=tree%2Fhylands_modeling%2Ftutorials%2Findex.ipynb&branch=master"
   ]
  },
  {
   "cell_type": "code",
   "execution_count": null,
   "metadata": {},
   "outputs": [],
   "source": []
  }
 ],
 "metadata": {
  "kernelspec": {
   "display_name": "Python 3 (ipykernel)",
   "language": "python",
   "name": "python3"
  },
  "language_info": {
   "codemirror_mode": {
    "name": "ipython",
    "version": 3
   },
   "file_extension": ".py",
   "mimetype": "text/x-python",
   "name": "python",
   "nbconvert_exporter": "python",
   "pygments_lexer": "ipython3",
   "version": "3.10.4"
  }
 },
 "nbformat": 4,
 "nbformat_minor": 2
}
